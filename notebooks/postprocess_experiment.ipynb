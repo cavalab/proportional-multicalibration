{
 "cells": [
  {
   "cell_type": "code",
   "execution_count": null,
   "id": "7172e8bb",
   "metadata": {},
   "outputs": [],
   "source": [
    "import json\n",
    "from glob import glob\n",
    "import pandas as pd\n",
    "import numpy as np\n",
    "\n",
    "import matplotlib.pyplot as plt\n",
    "import seaborn as sns\n",
    "\n",
    "sns.set_style('whitegrid')\n",
    "\n",
    "# rdir = '../results/lpc/results_22-05-13r1/'\n",
    "rdir = '../results/lpc/results_22-05-14/'"
   ]
  },
  {
   "cell_type": "code",
   "execution_count": null,
   "id": "1dccd80d",
   "metadata": {},
   "outputs": [],
   "source": [
    "frames = []\n",
    "# cols = [\n",
    "#     'algorithm',\n",
    "#     'random_state',\n",
    "#     'time_time',\n",
    "#        ]\n",
    "for f in glob(rdir+'/*.json'):\n",
    "#     print(f)\n",
    "    with open(f,'r') as file:\n",
    "        try:\n",
    "            d = json.load(file)\n",
    "        except Exception as e:\n",
    "            print('!!!Failed to load',f)\n",
    "            print(e)\n",
    "            continue\n",
    "    frames.append(d)    \n",
    "df_results = pd.DataFrame.from_records(frames)\n",
    "print(len(frames),'records')\n",
    "print(frames[0].keys())\n",
    "\n",
    "df_results['ml_name'] = df_results['algorithm'].apply(lambda x: x.split('_pmc')[0].split('_mc')[0])\n",
    "df_results['postprocessing'] = df_results['algorithm'].apply(lambda x: 'MC' if '_mc' in x else x)\n",
    "df_results['postprocessing'] = df_results['postprocessing'].apply(lambda x: 'PMC' if '_pmc' in x else x)\n",
    "df_results['postprocessing'] = df_results['postprocessing'].apply(lambda x: 'none' if not x in ['MC','PMC'] else x)\n",
    "df_results.loc[df_results['ml_name']=='lr_cv','ml_name'] = 'lr'\n",
    "# df_results['MC'] = df_results['algorithm'].apply(lambda x: '_mc' in x)\n",
    "# df_results['PMC'] = df_results['algorithm'].apply(lambda x: '_pmc' in x)\n",
    "df_results.groupby('algorithm')['random_state'].count()"
   ]
  },
  {
   "cell_type": "code",
   "execution_count": null,
   "id": "3e7fc221",
   "metadata": {},
   "outputs": [],
   "source": [
    "df_results['postprocessing'].unique()"
   ]
  },
  {
   "cell_type": "code",
   "execution_count": null,
   "id": "cf38e176",
   "metadata": {},
   "outputs": [],
   "source": [
    "\n",
    "df_results.groupby('algorithm').mean().round(3)"
   ]
  },
  {
   "cell_type": "code",
   "execution_count": null,
   "id": "ea10861a",
   "metadata": {},
   "outputs": [],
   "source": [
    "import pdb\n",
    "def nice_stat(x):\n",
    "#     pdb.set_trace()\n",
    "    return f'{x.mean():.2f}$\\pm${x.sem():.2f}'\n",
    "def nice_stats(x):\n",
    "    return x.apply(lambda x: nice_stat(x))\n"
   ]
  },
  {
   "cell_type": "code",
   "execution_count": null,
   "id": "a3f7ffde",
   "metadata": {},
   "outputs": [],
   "source": [
    "metrics = ['roc_auc','auprc', 'MC_loss', 'PMC_loss', 'DC_loss' ]\n",
    "test_metrics = [m+'_test' for m in metrics]\n",
    "train_metrics = [m+'_train' for m in metrics]\n",
    "# df_results.groupby('algorithm')[].mean().round(3)\n",
    "df_results.groupby(['ml_name','postprocessing'])[test_metrics].mean().round(3)\n",
    "\n",
    "# for m in test_metrics:\n",
    "#     df_results[m+'_nice'] = \n",
    "df_results.groupby(['ml_name','rho','n_bins','postprocessing'])[test_metrics].apply(nice_stats)"
   ]
  },
  {
   "cell_type": "code",
   "execution_count": null,
   "id": "b255a966",
   "metadata": {},
   "outputs": [],
   "source": [
    "order = df_results.groupby('ml_name').groups.keys()\n"
   ]
  },
  {
   "cell_type": "code",
   "execution_count": null,
   "id": "eabb3303",
   "metadata": {},
   "outputs": [],
   "source": [
    "df_plt = df_results.copy()\n",
    "# df_plt = df_plt.loc[df_plt.gamma==0.01]\n",
    "df_plt = df_plt.loc[df_plt.n_bins==10]\n",
    "df_plt = df_plt.loc[df_plt.ml_name=='lr']\n",
    "    \n",
    "    \n",
    "# for m in test_metrics:\n",
    "for m in ['MC_loss_test','PMC_loss_test','DC_loss_test']:\n",
    "#     plt.figure(figsize=(10,10))\n",
    "    plt.figure()\n",
    "    g=sns.catplot(\n",
    "        kind='box',\n",
    "        data=df_plt,\n",
    "#         x='ml_name',\n",
    "        y='gamma',\n",
    "        x=m,\n",
    "#         order=order,\n",
    "        hue='postprocessing',\n",
    "        hue_order=['None','MC','PMC'],\n",
    "        row='alpha',\n",
    "#         col='gamma',\n",
    "        col='rho',\n",
    "#         col='n_bins',\n",
    "        showfliers=False,\n",
    "        facet_kws=dict(sharey=False),\n",
    "        sharey=False,\n",
    "#         join=False,\n",
    "#         aspect=0.5\n",
    "    )\n",
    "#     g.set(suptitle=m)"
   ]
  },
  {
   "cell_type": "code",
   "execution_count": null,
   "id": "d81ad351",
   "metadata": {},
   "outputs": [],
   "source": [
    "df_plt = df_results.copy()\n",
    "# df_plt = df_plt.loc[df_plt.gamma==0.01]\n",
    "df_plt = df_plt.loc[df_plt.n_bins==10]\n",
    "df_plt = df_plt.loc[df_plt.ml_name=='lr']\n",
    "    \n",
    "row,col,hue=('alpha','gamma','rho') \n",
    "# row,col,hue=('rho','gamma','alpha') \n",
    "# for m in test_metrics:\n",
    "for m in ['roc_auc_test','MC_loss_test','PMC_loss_test','DC_loss_test']:\n",
    "#     plt.figure(figsize=(10,10))\n",
    "#     for row,col,hue in [('alpha','gamma','rho'),('alpha','rho'),('rho','gamma')]:\n",
    "    plt.figure()\n",
    "    g=sns.catplot(\n",
    "        kind='box',\n",
    "#         dodge=True,\n",
    "        data=df_plt,\n",
    "#             x='ml_name',\n",
    "        x='postprocessing',\n",
    "        y=m,\n",
    "        order=['none','MC','PMC'],\n",
    "        hue=hue,\n",
    "#         hue_order=['None','MC','PMC'],\n",
    "        row=row,\n",
    "#         col='gamma',\n",
    "        col=col,\n",
    "#         col='n_bins',\n",
    "        showfliers=False,\n",
    "#         notch=True,\n",
    "#         facet_kws=dict(sharex=False),\n",
    "        facet_kws=dict(sharey=False),\n",
    "#         sharex=False,\n",
    "        sharey=False,\n",
    "#         join=False,\n",
    "#         aspect=0.5\n",
    "    )\n",
    "    #     g.set(suptitle=m)"
   ]
  },
  {
   "cell_type": "code",
   "execution_count": null,
   "id": "810bd3c7",
   "metadata": {},
   "outputs": [],
   "source": [
    "sns.displot(data=df_plt, x=\"alpha\", y=\"gamma\", hue=\"MC_loss_test\", kind=\"kde\")"
   ]
  },
  {
   "cell_type": "code",
   "execution_count": null,
   "id": "1fcb3b94",
   "metadata": {},
   "outputs": [],
   "source": [
    "df_plt = df_results.copy()\n",
    "    \n",
    "# for m in test_metrics:\n",
    "for m in ['MC_loss_test','PMC_loss_test','DC_loss_test']:\n",
    "#     plt.figure(figsize=(10,10))\n",
    "    plt.figure()\n",
    "    g=sns.catplot(\n",
    "        kind='box',\n",
    "        data=df_plt,\n",
    "        x='ml_name',\n",
    "        y=m,\n",
    "        hue='postprocessing',\n",
    "        hue_order=['None','MC','PMC'],\n",
    "        row='alpha',\n",
    "        col='gamma',\n",
    "        order=order,\n",
    "        showfliers=False,\n",
    "        facet_kws=dict(sharey=False),\n",
    "        sharey=False\n",
    "#         join=False\n",
    "    )\n",
    "#     g.set(suptitle=m)"
   ]
  },
  {
   "cell_type": "code",
   "execution_count": null,
   "id": "f97d92df",
   "metadata": {},
   "outputs": [],
   "source": [
    "df_plt = df_results.copy()\n",
    "    \n",
    "for m in test_metrics:\n",
    "    plt.figure(figsize=(10,10))\n",
    "    sns.boxplot(\n",
    "        data=df_plt,\n",
    "        y='ml_name',\n",
    "        x=m,\n",
    "        hue='postprocessing',\n",
    "#         order=order,\n",
    "#         join=False\n",
    "    )"
   ]
  }
 ],
 "metadata": {
  "kernelspec": {
   "display_name": "Python 3 (ipykernel)",
   "language": "python",
   "name": "python3"
  },
  "language_info": {
   "codemirror_mode": {
    "name": "ipython",
    "version": 3
   },
   "file_extension": ".py",
   "mimetype": "text/x-python",
   "name": "python",
   "nbconvert_exporter": "python",
   "pygments_lexer": "ipython3",
   "version": "3.9.7"
  }
 },
 "nbformat": 4,
 "nbformat_minor": 5
}
