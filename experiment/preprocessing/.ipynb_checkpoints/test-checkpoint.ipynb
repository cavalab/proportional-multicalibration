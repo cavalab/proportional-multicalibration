{
 "cells": [
  {
   "cell_type": "code",
   "execution_count": 1,
   "id": "24bcb809-8ddc-4129-b4ec-e040bb2365db",
   "metadata": {},
   "outputs": [],
   "source": [
    "#https://github.com/cavalab/popp_fairness/issues/6\n",
    "from tqdm import tqdm\n",
    "import ipdb\n",
    "import os\n",
    "from ast import arg\n",
    "import numpy as np\n",
    "import pandas as pd\n",
    "import argparse\n",
    "from sklearn.preprocessing import LabelEncoder\n",
    "import importlib\n",
    "import sys\n",
    "import warnings\n",
    "warnings.filterwarnings(\"ignore\")\n",
    "from sklearn.preprocessing import OneHotEncoder\n",
    "\n",
    "def process_adm(data):\n",
    "    adm = pd.read_csv(data)\n",
    "    return adm\n",
    "\n",
    "def process_edstay(data):\n",
    "    ed = pd.read_csv(data)\n",
    "    return ed\n",
    "\n",
    "def process_tri(data):\n",
    "    tri = pd.read_csv(data)\n",
    "    return tri\n",
    "\n",
    "def process_pat(data):\n",
    "    pat = pd.read_csv(data)\n",
    "    return pat\n",
    "\n",
    "def merge_all(adm,ed,tri,pat):\n",
    "    df = ed.merge(tri.drop('subject_id',axis = 1), on = 'stay_id')\n",
    "    df = df.merge(adm.drop('hadm_id',axis = 1), on = 'subject_id')\n",
    "    df = df.merge(pat.drop(['dod'],axis = 1), on = 'subject_id')\n",
    "    df = df.drop_duplicates(subset='stay_id')\n",
    "    # sort by intime\n",
    "    df = df.sort_values(by = 'intime')\n",
    "    df = df.set_index('stay_id')\n",
    "    return df\n",
    "\n",
    "COLUMNS_TO_KEEP = [\n",
    "                   'subject_id',\n",
    "                   'hadm_id',\n",
    "                   'intime',\n",
    "                   'admission_type',\n",
    "                   'admission_location',\n",
    "                   'temperature',\n",
    "                   'heartrate',\n",
    "                   'resprate',\n",
    "                   'o2sat',\n",
    "                   'sbp',\n",
    "                   'dbp',\n",
    "                   'pain', \n",
    "                   'acuity',\n",
    "                   'insurance',\n",
    "                   'language',\n",
    "                   'marital_status',\n",
    "                   'ethnicity',\n",
    "                   'chiefcomplaint', \n",
    "                   'gender',\n",
    "                   'anchor_year_group'\n",
    "]\n",
    "\n",
    "\n",
    "def adm_count(x):\n",
    "    \"\"\"Counts previous admissions for a subject's visits\"\"\"\n",
    "    tmp = pd.Series(index=x.index)\n",
    "    tmp.loc[x.index[0]]=0\n",
    "    tmp.iloc[1:] = (~x.iloc[:-1]['hadm_id'].isna()).cumsum()\n",
    "    tmp.name='prev_adm'\n",
    "\n",
    "    return tmp\n",
    "\n",
    "def remove_outliers(data,columns = ['temperature', 'heartrate', \n",
    "'resprate', 'o2sat', 'sbp', 'dbp', 'pain','acuity']):\n",
    "\n",
    "    min_temp = 95\n",
    "    max_temp = 105\n",
    "    min_hr = 30\n",
    "    max_hr = 300\n",
    "    min_rs = 2\n",
    "    max_rs = 200\n",
    "    min_o2 = 50\n",
    "    max_o2 = 100\n",
    "\n",
    "    min_sbp = 30\n",
    "    max_sbp = 400\n",
    "\n",
    "    min_dbp = 30\n",
    "    max_dbp = 300\n",
    "\n",
    "    pain_min = 0\n",
    "    pain_max = 20\n",
    "\n",
    "    acu_min = 1\n",
    "    acu_max = 5\n",
    "\n",
    "    min_l = [min_temp,min_hr,min_rs,min_o2,min_sbp,min_dbp,pain_min,acu_min]\n",
    "    max_l = [max_temp,max_hr,max_rs,max_o2,max_sbp,max_dbp,pain_max,acu_max]\n",
    "    l = len(columns)\n",
    "    x = data.copy()\n",
    "    for i in range(l):\n",
    "        c = columns[i]\n",
    "        low = min_l[i]\n",
    "        high = max_l[i]\n",
    "        x.loc[(x[c]<low) | (x[c] > high),c] = float('nan')\n",
    "    return x\n",
    "\n",
    "# Not exactly sure what to do for now\n",
    "def clean_text(data):\n",
    "    df = data.copy()\n",
    "    df.chiefcomplaint = df.chiefcomplaint.fillna('___')\n",
    "    # Fill NA with ____, which makes sense\n",
    "    df['chiefcomplaint'] = df['chiefcomplaint'].apply(lambda x: x.lower())\n",
    "    df['chiefcomplaint'] = df['chiefcomplaint'].apply(lambda x: ' '.join(sorted(x.replace(',','').split(' '))))\n",
    "    allsentences = df_no_label.chiefcomplaint\n",
    "    vectorizer =CountVectorizer(min_df=10)\n",
    "    X = vectorizer.fit_transform(allsentences)\n",
    "\n",
    "#     enc = OneHotEncoder(max_categories=100, sparse=False).fit(X) # Keep only top 100\n",
    "#     encoded = enc.transform(df['chiefcomplaint'].values.reshape(-1,1))\n",
    "    df[vectorizer.get_feature_names_out()] = X.toarray()\n",
    "    return df\n",
    "\n",
    "def clean_text_label(data):\n",
    "    df = data.copy()\n",
    "    df.chiefcomplaint = df.chiefcomplaint.fillna('___') # Fill NA with ____, which makes sense\n",
    "    df['chiefcomplaint'] = df['chiefcomplaint'].apply(lambda x: x.lower())\n",
    "    df['chiefcomplaint'] = df['chiefcomplaint'].apply(lambda x: ' '.join(sorted(x.replace(',','').split(' '))))\n",
    "    words_rep = list(df.chiefcomplaint.value_counts()[np.where((df.chiefcomplaint.value_counts()/df.shape[0]).cumsum()>0.80)[0]].index)\n",
    "    df.loc[df['chiefcomplaint'].isin(words_rep),'chiefcomplaint'] = 'infrequent'\n",
    "    enc = LabelEncoder()\n",
    "    df['chiefcomplaint'] = enc.fit_transform(df['chiefcomplaint'])\n",
    "    \n",
    "    return df\n",
    "\n",
    "\n",
    "def process_data(adm,ed,tri,pat,results_path = 'final.csv',label = False):\n",
    "    print('loading and processing mimic files...')\n",
    "    adm = process_adm(adm)\n",
    "    ed = process_edstay(ed)\n",
    "    tri = process_tri(tri)\n",
    "    pat = process_pat(pat)\n",
    "\n",
    "    print('merging...')\n",
    "    df = merge_all(adm,ed,tri,pat)\n",
    "    df = df[COLUMNS_TO_KEEP]\n",
    "\n",
    "    print('adding columns..')\n",
    "    ##########    \n",
    "    print('previous visits..')\n",
    "    df.loc[:,'prev_visit'] = df.groupby('subject_id').cumcount()\n",
    "#     print('previous admissions..')\n",
    "#     tmp = df.groupby('subject_id').apply(adm_count)  \n",
    "#     df = pd.merge(df,tmp, on='stay_id')\n",
    "\n",
    "    df['y'] = ~df.hadm_id.isna()\n",
    "    # filter observation admissions\n",
    "    df = df.loc[~((df.y==1) \n",
    "                      & (df.admission_type.str.contains('OBSERVATION'))),:]\n",
    "    ##########    \n",
    "\n",
    "    print('removing outliers...')\n",
    "    df = remove_outliers(df)\n",
    "    \n",
    "    if(label):\n",
    "        print('Cleaning Text Features...')\n",
    "        df = clean_text_label(df)\n",
    "    else:\n",
    "        print('Cleaning Text Features...')\n",
    "        df = clean_text(df)\n",
    "    \n",
    "    df = df.drop(columns=['hadm_id','subject_id', 'intime', 'admission_type','admission_location'])\n",
    "\n",
    "\n",
    "\n",
    "    print('finished processing dataset.')\n",
    "    ccr = df[\"y\"].sum()/((~df[\"y\"]).sum())\n",
    "    print(f'size: {df.shape}, cases: {df.y.sum()/len(df)}')\n",
    "    print('dataset columns:',df.columns)\n",
    "    print(df.head())\n",
    "\n",
    "    print('saving...')\n",
    "    df.to_csv(results_path,index= False)\n",
    "    print('done.')\n",
    "\n",
    "\n",
    "# add more options here later\n",
    "# if __name__ == \"__main__\":\n",
    "#     parser = argparse.ArgumentParser(\n",
    "#         description=\"Input the file location for the four files from MIMIC IV.\", add_help=False)\n",
    "#     parser.add_argument('-mimic_path', action='store', type=str,\n",
    "#                         default='/media/cavalab/data/mimic-iv/mimic-iv-1.0/',\n",
    "#                         help='Path for admission file')\n",
    "#     parser.add_argument('-Admission_File', action='store', type=str,\n",
    "#                         default='core/admissions.csv.gz',\n",
    "#                         help='Path for admission file')\n",
    "#     parser.add_argument('-Edstay_File', action='store', type=str,\n",
    "#                         default='ed/edstays.csv.gz',\n",
    "#                         help='Path for edstay file') \n",
    "#     parser.add_argument('-Triage_File', action='store', type=str,\n",
    "#                         default='ed/triage.csv.gz',\n",
    "#                         help='Path for Triage File')\n",
    "#     parser.add_argument('-Patient_File', action='store', type=str,\n",
    "#                         default='core/patients.csv.gz',\n",
    "#                         help='Path for Patient file')      \n",
    "#     parser.add_argument('-h', '--help', action='help',\n",
    "#                         help='Show this help message and exit.')\n",
    "#     parser.add_argument('-p', action='store',\n",
    "#                         dest='PATH',default='data/mimic4_admissions.csv',type=str, \n",
    "#             help='Path of Saved final fire')\n",
    "\n",
    "#     args = parser.parse_args()\n",
    "\n",
    "#     process_data(os.path.join(args.mimic_path, args.Admission_File), \n",
    "#                  os.path.join(args.mimic_path, args.Edstay_File), \n",
    "#                  os.path.join(args.mimic_path, args.Triage_File), \n",
    "#                  os.path.join(args.mimic_path, args.Patient_File),\n",
    "#                  results_path = args.PATH)\n",
    "import ipdb\n",
    "import json\n",
    "import pandas as pd\n",
    "import numpy as np\n",
    "from sklearn.preprocessing import LabelEncoder\n",
    "\n",
    "def read_file(filename, label='y', one_hot_encode=False,\n",
    "              drop_columns =\n",
    "              ['chiefcomplaint']):\n",
    "    \n",
    "    \n",
    "    input_data = pd.read_csv(filename)\n",
    "    # Drop these data for now,\n",
    "    X = input_data.drop([label]+drop_columns,axis = 1)\n",
    "    # feature_names = [x for x in input_data.columns.values if x != label]\n",
    "    # feature_names = np.array(feature_names)\n",
    "\n",
    "    # X = pd.get_dummies(input_data)\n",
    "    # ipdb.set_trace()\n",
    "    encodings={}\n",
    "    for c in X.select_dtypes(['object','category']).columns:\n",
    "#         print(c)\n",
    "        le = LabelEncoder()\n",
    "        X[c] = le.fit_transform(X[c])\n",
    "        encodings[c] = {k:list(v) if isinstance(v, np.ndarray) else v \n",
    "                        for k,v in vars(le).items()\n",
    "                       }\n",
    "\n",
    "    with open('label_encodings.json','w') as of:\n",
    "        json.dump(encodings, of)\n",
    "\n",
    "    # if one_hot_encode:\n",
    "    #     X = pd.get_dummies(input_data)\n",
    "    # else:\n",
    "    #     X = input_data\n",
    "\n",
    "    # X = X.values.astype(float)\n",
    "    y = input_data[label].astype(int)\n",
    "        # Note that feature name might not be the same as dataset, as we use\n",
    "    # one-hot encoding here\n",
    "    # assert(X.shape[1] == feature_names.shape[0])\n",
    "\n",
    "    return X, y "
   ]
  },
  {
   "cell_type": "code",
   "execution_count": 159,
   "id": "9901a4b3-93be-457d-a5fc-e2e815380e26",
   "metadata": {},
   "outputs": [
    {
     "name": "stdout",
     "output_type": "stream",
     "text": [
      "loading and processing mimic files...\n",
      "merging...\n",
      "adding columns..\n",
      "previous visits..\n",
      "removing outliers...\n",
      "Cleaning Text Features...\n",
      "finished processing dataset.\n",
      "size: (173561, 935), cases: 0.3087617609946935\n",
      "dataset columns: Index(['temperature', 'heartrate', 'resprate', 'o2sat', 'sbp', 'dbp', 'pain',\n",
      "       'acuity', 'insurance', 'language',\n",
      "       ...\n",
      "       'with', 'withdrawal', 'witnessed', 'word', 'work', 'worsening', 'wound',\n",
      "       'wrist', 'xray', 'zoster'],\n",
      "      dtype='object', length=935)\n",
      "          temperature  heartrate  resprate  o2sat    sbp   dbp  pain  acuity  \\\n",
      "stay_id                                                                        \n",
      "38649090          NaN        NaN       NaN    NaN    NaN   NaN     0     NaN   \n",
      "38851307         97.5       81.0      17.0  100.0  167.0  96.0     0     3.0   \n",
      "32221725         98.2      111.0      18.0   96.0  100.0  66.0     0     2.0   \n",
      "34454487         98.9       87.0      20.0   99.0  140.0  83.0     0     1.0   \n",
      "35742023         97.0       99.0      18.0  100.0  168.0  84.0     0     3.0   \n",
      "\n",
      "         insurance language  ... with withdrawal witnessed word work  \\\n",
      "stay_id                      ...                                       \n",
      "38649090  Medicare  ENGLISH  ...    0          0         0    0    0   \n",
      "38851307  Medicare  ENGLISH  ...    0          0         0    0    0   \n",
      "32221725     Other  ENGLISH  ...    0          0         0    0    0   \n",
      "34454487     Other  ENGLISH  ...    0          0         0    0    0   \n",
      "35742023  Medicaid  ENGLISH  ...    0          0         0    0    0   \n",
      "\n",
      "          worsening  wound  wrist  xray  zoster  \n",
      "stay_id                                          \n",
      "38649090          0      0      0     0       0  \n",
      "38851307          0      0      0     0       0  \n",
      "32221725          0      0      0     0       0  \n",
      "34454487          0      0      0     0       0  \n",
      "35742023          0      0      0     0       0  \n",
      "\n",
      "[5 rows x 935 columns]\n",
      "saving...\n",
      "done.\n"
     ]
    }
   ],
   "source": [
    "path = '/media/cavalab/data/mimic-iv/mimic-iv-1.0/' \n",
    "adm_path = path + 'core/admissions.csv.gz'\n",
    "ed_path = path + 'ed/edstays.csv.gz'\n",
    "tri_path = path +  'ed/triage.csv.gz'\n",
    "patient_path = path + 'core/patients.csv.gz'\n",
    "process_data(adm_path,ed_path,tri_path,patient_path)"
   ]
  },
  {
   "cell_type": "code",
   "execution_count": 2,
   "id": "405149b5-b7a4-48e3-a37c-c7d252aa877f",
   "metadata": {},
   "outputs": [],
   "source": [
    "import xgboost as xgb\n",
    "from sklearn.model_selection import train_test_split\n",
    "from sklearn.metrics import accuracy_score\n",
    "from sklearn.metrics import roc_auc_score\n",
    "from sklearn.ensemble import RandomForestClassifier\n",
    "from sklearn.linear_model import LogisticRegression"
   ]
  },
  {
   "cell_type": "code",
   "execution_count": 57,
   "id": "2544fff3-d8d9-4fc5-81d3-f3ea142b9b1e",
   "metadata": {},
   "outputs": [],
   "source": [
    "df_no_label = pd.read_csv('final.csv')"
   ]
  },
  {
   "cell_type": "code",
   "execution_count": 58,
   "id": "b82af3e7-1a1b-4346-9106-41426bc41056",
   "metadata": {},
   "outputs": [],
   "source": [
    "X,y = read_file('final.csv')"
   ]
  },
  {
   "cell_type": "code",
   "execution_count": 59,
   "id": "1e225e59-2389-44b8-9a3c-ab1d5c83db3a",
   "metadata": {},
   "outputs": [],
   "source": [
    "seed = 109\n",
    "test_size = 0.3\n",
    "X_train, X_test, y_train, y_test = train_test_split(X, y, test_size=test_size, random_state=seed)"
   ]
  },
  {
   "cell_type": "code",
   "execution_count": 164,
   "id": "34fe6363-1b44-48a7-8ebc-48aa1897cd1f",
   "metadata": {},
   "outputs": [
    {
     "name": "stdout",
     "output_type": "stream",
     "text": [
      "[18:51:58] WARNING: ../src/learner.cc:1115: Starting in XGBoost 1.3.0, the default evaluation metric used with the objective 'binary:logistic' was changed from 'error' to 'logloss'. Explicitly set eval_metric if you'd like to restore the old behavior.\n"
     ]
    },
    {
     "data": {
      "text/html": [
       "<style>#sk-container-id-3 {color: black;background-color: white;}#sk-container-id-3 pre{padding: 0;}#sk-container-id-3 div.sk-toggleable {background-color: white;}#sk-container-id-3 label.sk-toggleable__label {cursor: pointer;display: block;width: 100%;margin-bottom: 0;padding: 0.3em;box-sizing: border-box;text-align: center;}#sk-container-id-3 label.sk-toggleable__label-arrow:before {content: \"▸\";float: left;margin-right: 0.25em;color: #696969;}#sk-container-id-3 label.sk-toggleable__label-arrow:hover:before {color: black;}#sk-container-id-3 div.sk-estimator:hover label.sk-toggleable__label-arrow:before {color: black;}#sk-container-id-3 div.sk-toggleable__content {max-height: 0;max-width: 0;overflow: hidden;text-align: left;background-color: #f0f8ff;}#sk-container-id-3 div.sk-toggleable__content pre {margin: 0.2em;color: black;border-radius: 0.25em;background-color: #f0f8ff;}#sk-container-id-3 input.sk-toggleable__control:checked~div.sk-toggleable__content {max-height: 200px;max-width: 100%;overflow: auto;}#sk-container-id-3 input.sk-toggleable__control:checked~label.sk-toggleable__label-arrow:before {content: \"▾\";}#sk-container-id-3 div.sk-estimator input.sk-toggleable__control:checked~label.sk-toggleable__label {background-color: #d4ebff;}#sk-container-id-3 div.sk-label input.sk-toggleable__control:checked~label.sk-toggleable__label {background-color: #d4ebff;}#sk-container-id-3 input.sk-hidden--visually {border: 0;clip: rect(1px 1px 1px 1px);clip: rect(1px, 1px, 1px, 1px);height: 1px;margin: -1px;overflow: hidden;padding: 0;position: absolute;width: 1px;}#sk-container-id-3 div.sk-estimator {font-family: monospace;background-color: #f0f8ff;border: 1px dotted black;border-radius: 0.25em;box-sizing: border-box;margin-bottom: 0.5em;}#sk-container-id-3 div.sk-estimator:hover {background-color: #d4ebff;}#sk-container-id-3 div.sk-parallel-item::after {content: \"\";width: 100%;border-bottom: 1px solid gray;flex-grow: 1;}#sk-container-id-3 div.sk-label:hover label.sk-toggleable__label {background-color: #d4ebff;}#sk-container-id-3 div.sk-serial::before {content: \"\";position: absolute;border-left: 1px solid gray;box-sizing: border-box;top: 0;bottom: 0;left: 50%;z-index: 0;}#sk-container-id-3 div.sk-serial {display: flex;flex-direction: column;align-items: center;background-color: white;padding-right: 0.2em;padding-left: 0.2em;position: relative;}#sk-container-id-3 div.sk-item {position: relative;z-index: 1;}#sk-container-id-3 div.sk-parallel {display: flex;align-items: stretch;justify-content: center;background-color: white;position: relative;}#sk-container-id-3 div.sk-item::before, #sk-container-id-3 div.sk-parallel-item::before {content: \"\";position: absolute;border-left: 1px solid gray;box-sizing: border-box;top: 0;bottom: 0;left: 50%;z-index: -1;}#sk-container-id-3 div.sk-parallel-item {display: flex;flex-direction: column;z-index: 1;position: relative;background-color: white;}#sk-container-id-3 div.sk-parallel-item:first-child::after {align-self: flex-end;width: 50%;}#sk-container-id-3 div.sk-parallel-item:last-child::after {align-self: flex-start;width: 50%;}#sk-container-id-3 div.sk-parallel-item:only-child::after {width: 0;}#sk-container-id-3 div.sk-dashed-wrapped {border: 1px dashed gray;margin: 0 0.4em 0.5em 0.4em;box-sizing: border-box;padding-bottom: 0.4em;background-color: white;}#sk-container-id-3 div.sk-label label {font-family: monospace;font-weight: bold;display: inline-block;line-height: 1.2em;}#sk-container-id-3 div.sk-label-container {text-align: center;}#sk-container-id-3 div.sk-container {/* jupyter's `normalize.less` sets `[hidden] { display: none; }` but bootstrap.min.css set `[hidden] { display: none !important; }` so we also need the `!important` here to be able to override the default hidden behavior on the sphinx rendered scikit-learn.org. See: https://github.com/scikit-learn/scikit-learn/issues/21755 */display: inline-block !important;position: relative;}#sk-container-id-3 div.sk-text-repr-fallback {display: none;}</style><div id=\"sk-container-id-3\" class=\"sk-top-container\"><div class=\"sk-text-repr-fallback\"><pre>XGBClassifier(base_score=0.5, booster=&#x27;gbtree&#x27;, colsample_bylevel=1,\n",
       "              colsample_bynode=1, colsample_bytree=1, enable_categorical=False,\n",
       "              gamma=0, gpu_id=-1, importance_type=None,\n",
       "              interaction_constraints=&#x27;&#x27;, learning_rate=0.300000012,\n",
       "              max_delta_step=0, max_depth=6, min_child_weight=1, missing=nan,\n",
       "              monotone_constraints=&#x27;()&#x27;, n_estimators=100, n_jobs=28,\n",
       "              num_parallel_tree=1, predictor=&#x27;auto&#x27;, random_state=0,\n",
       "              reg_alpha=0, reg_lambda=1, scale_pos_weight=1, subsample=1,\n",
       "              tree_method=&#x27;exact&#x27;, validate_parameters=1, verbosity=None)</pre><b>In a Jupyter environment, please rerun this cell to show the HTML representation or trust the notebook. <br />On GitHub, the HTML representation is unable to render, please try loading this page with nbviewer.org.</b></div><div class=\"sk-container\" hidden><div class=\"sk-item\"><div class=\"sk-estimator sk-toggleable\"><input class=\"sk-toggleable__control sk-hidden--visually\" id=\"sk-estimator-id-3\" type=\"checkbox\" checked><label for=\"sk-estimator-id-3\" class=\"sk-toggleable__label sk-toggleable__label-arrow\">XGBClassifier</label><div class=\"sk-toggleable__content\"><pre>XGBClassifier(base_score=0.5, booster=&#x27;gbtree&#x27;, colsample_bylevel=1,\n",
       "              colsample_bynode=1, colsample_bytree=1, enable_categorical=False,\n",
       "              gamma=0, gpu_id=-1, importance_type=None,\n",
       "              interaction_constraints=&#x27;&#x27;, learning_rate=0.300000012,\n",
       "              max_delta_step=0, max_depth=6, min_child_weight=1, missing=nan,\n",
       "              monotone_constraints=&#x27;()&#x27;, n_estimators=100, n_jobs=28,\n",
       "              num_parallel_tree=1, predictor=&#x27;auto&#x27;, random_state=0,\n",
       "              reg_alpha=0, reg_lambda=1, scale_pos_weight=1, subsample=1,\n",
       "              tree_method=&#x27;exact&#x27;, validate_parameters=1, verbosity=None)</pre></div></div></div></div></div>"
      ],
      "text/plain": [
       "XGBClassifier(base_score=0.5, booster='gbtree', colsample_bylevel=1,\n",
       "              colsample_bynode=1, colsample_bytree=1, enable_categorical=False,\n",
       "              gamma=0, gpu_id=-1, importance_type=None,\n",
       "              interaction_constraints='', learning_rate=0.300000012,\n",
       "              max_delta_step=0, max_depth=6, min_child_weight=1, missing=nan,\n",
       "              monotone_constraints='()', n_estimators=100, n_jobs=28,\n",
       "              num_parallel_tree=1, predictor='auto', random_state=0,\n",
       "              reg_alpha=0, reg_lambda=1, scale_pos_weight=1, subsample=1,\n",
       "              tree_method='exact', validate_parameters=1, verbosity=None)"
      ]
     },
     "execution_count": 164,
     "metadata": {},
     "output_type": "execute_result"
    }
   ],
   "source": [
    "# instantiate the classifier \n",
    "model_xgb_onehot = xgb.XGBClassifier()\n",
    "# fit the classifier to the training data\n",
    "model_xgb_onehot.fit(X_train, y_train)"
   ]
  },
  {
   "cell_type": "code",
   "execution_count": 13,
   "id": "a286449b-69cc-44a2-8bbd-500f099f9ebc",
   "metadata": {},
   "outputs": [],
   "source": [
    "def evaluate_model(model,X_test,y_test):\n",
    "    \n",
    "    y_pred_xgb = model.predict(X_test)\n",
    "\n",
    "    acc_xgb = accuracy_score(y_test, y_pred_xgb)\n",
    "\n",
    "    print(\"Accuracy \", acc_xgb)\n",
    "    \n",
    "    print(\"roc_auc\" , roc_auc_score(y_true = y_test,y_score = model.predict_proba(X_test)[:,1]))\n",
    "    "
   ]
  },
  {
   "cell_type": "code",
   "execution_count": 165,
   "id": "5270250e-3d24-4632-b711-6c63e0733a2d",
   "metadata": {},
   "outputs": [
    {
     "name": "stdout",
     "output_type": "stream",
     "text": [
      "Accuracy  0.8489696364439494\n"
     ]
    }
   ],
   "source": [
    "\n",
    "y_pred_xgb = model_xgb_onehot.predict(X_test)\n",
    "\n",
    "acc_xgb = accuracy_score(y_test, y_pred_xgb)\n",
    "\n",
    "print(\"Accuracy \", acc_xgb)"
   ]
  },
  {
   "cell_type": "code",
   "execution_count": 166,
   "id": "472e2b5d-c056-4aab-9250-b2e2894fe471",
   "metadata": {},
   "outputs": [
    {
     "data": {
      "text/plain": [
       "0.9112852825193669"
      ]
     },
     "execution_count": 166,
     "metadata": {},
     "output_type": "execute_result"
    }
   ],
   "source": [
    "roc_auc_score(y_true = y_test,y_score = model_xgb_onehot.predict_proba(X_test)[:,1])"
   ]
  },
  {
   "cell_type": "code",
   "execution_count": 169,
   "id": "19e3913d-3f1e-455d-8e25-8a0a0474e3ab",
   "metadata": {},
   "outputs": [
    {
     "data": {
      "text/plain": [
       "<AxesSubplot:title={'center':'Feature importance'}, xlabel='F score', ylabel='Features'>"
      ]
     },
     "execution_count": 169,
     "metadata": {},
     "output_type": "execute_result"
    },
    {
     "data": {
      "image/png": "[encoded data removed]",
      "text/plain": [
       "<Figure size 432x288 with 1 Axes>"
      ]
     },
     "metadata": {
      "needs_background": "light"
     },
     "output_type": "display_data"
    }
   ],
   "source": [
    "xgb.plot_importance(model_xgb_onehot,max_num_features=20)"
   ]
  },
  {
   "cell_type": "code",
   "execution_count": null,
   "id": "6fafcd98-38c2-4be0-83bf-042ee3a5f737",
   "metadata": {},
   "outputs": [],
   "source": [
    "# Random Forest"
   ]
  },
  {
   "cell_type": "code",
   "execution_count": 60,
   "id": "d0405367-4586-4618-b0b6-f636c2ea8549",
   "metadata": {},
   "outputs": [],
   "source": [
    "X_train = X_train.fillna(X_train.median())\n",
    "X_test = X_test.fillna(X_test.median())"
   ]
  },
  {
   "cell_type": "code",
   "execution_count": 62,
   "id": "1ae8de5f-1d79-45ac-a094-99acf1f9bc99",
   "metadata": {},
   "outputs": [
    {
     "name": "stdout",
     "output_type": "stream",
     "text": [
      "[19:14:27] WARNING: ../src/learner.cc:1115: Starting in XGBoost 1.3.0, the default evaluation metric used with the objective 'binary:logistic' was changed from 'error' to 'logloss'. Explicitly set eval_metric if you'd like to restore the old behavior.\n"
     ]
    },
    {
     "data": {
      "text/html": [
       "<style>#sk-container-id-6 {color: black;background-color: white;}#sk-container-id-6 pre{padding: 0;}#sk-container-id-6 div.sk-toggleable {background-color: white;}#sk-container-id-6 label.sk-toggleable__label {cursor: pointer;display: block;width: 100%;margin-bottom: 0;padding: 0.3em;box-sizing: border-box;text-align: center;}#sk-container-id-6 label.sk-toggleable__label-arrow:before {content: \"▸\";float: left;margin-right: 0.25em;color: #696969;}#sk-container-id-6 label.sk-toggleable__label-arrow:hover:before {color: black;}#sk-container-id-6 div.sk-estimator:hover label.sk-toggleable__label-arrow:before {color: black;}#sk-container-id-6 div.sk-toggleable__content {max-height: 0;max-width: 0;overflow: hidden;text-align: left;background-color: #f0f8ff;}#sk-container-id-6 div.sk-toggleable__content pre {margin: 0.2em;color: black;border-radius: 0.25em;background-color: #f0f8ff;}#sk-container-id-6 input.sk-toggleable__control:checked~div.sk-toggleable__content {max-height: 200px;max-width: 100%;overflow: auto;}#sk-container-id-6 input.sk-toggleable__control:checked~label.sk-toggleable__label-arrow:before {content: \"▾\";}#sk-container-id-6 div.sk-estimator input.sk-toggleable__control:checked~label.sk-toggleable__label {background-color: #d4ebff;}#sk-container-id-6 div.sk-label input.sk-toggleable__control:checked~label.sk-toggleable__label {background-color: #d4ebff;}#sk-container-id-6 input.sk-hidden--visually {border: 0;clip: rect(1px 1px 1px 1px);clip: rect(1px, 1px, 1px, 1px);height: 1px;margin: -1px;overflow: hidden;padding: 0;position: absolute;width: 1px;}#sk-container-id-6 div.sk-estimator {font-family: monospace;background-color: #f0f8ff;border: 1px dotted black;border-radius: 0.25em;box-sizing: border-box;margin-bottom: 0.5em;}#sk-container-id-6 div.sk-estimator:hover {background-color: #d4ebff;}#sk-container-id-6 div.sk-parallel-item::after {content: \"\";width: 100%;border-bottom: 1px solid gray;flex-grow: 1;}#sk-container-id-6 div.sk-label:hover label.sk-toggleable__label {background-color: #d4ebff;}#sk-container-id-6 div.sk-serial::before {content: \"\";position: absolute;border-left: 1px solid gray;box-sizing: border-box;top: 0;bottom: 0;left: 50%;z-index: 0;}#sk-container-id-6 div.sk-serial {display: flex;flex-direction: column;align-items: center;background-color: white;padding-right: 0.2em;padding-left: 0.2em;position: relative;}#sk-container-id-6 div.sk-item {position: relative;z-index: 1;}#sk-container-id-6 div.sk-parallel {display: flex;align-items: stretch;justify-content: center;background-color: white;position: relative;}#sk-container-id-6 div.sk-item::before, #sk-container-id-6 div.sk-parallel-item::before {content: \"\";position: absolute;border-left: 1px solid gray;box-sizing: border-box;top: 0;bottom: 0;left: 50%;z-index: -1;}#sk-container-id-6 div.sk-parallel-item {display: flex;flex-direction: column;z-index: 1;position: relative;background-color: white;}#sk-container-id-6 div.sk-parallel-item:first-child::after {align-self: flex-end;width: 50%;}#sk-container-id-6 div.sk-parallel-item:last-child::after {align-self: flex-start;width: 50%;}#sk-container-id-6 div.sk-parallel-item:only-child::after {width: 0;}#sk-container-id-6 div.sk-dashed-wrapped {border: 1px dashed gray;margin: 0 0.4em 0.5em 0.4em;box-sizing: border-box;padding-bottom: 0.4em;background-color: white;}#sk-container-id-6 div.sk-label label {font-family: monospace;font-weight: bold;display: inline-block;line-height: 1.2em;}#sk-container-id-6 div.sk-label-container {text-align: center;}#sk-container-id-6 div.sk-container {/* jupyter's `normalize.less` sets `[hidden] { display: none; }` but bootstrap.min.css set `[hidden] { display: none !important; }` so we also need the `!important` here to be able to override the default hidden behavior on the sphinx rendered scikit-learn.org. See: https://github.com/scikit-learn/scikit-learn/issues/21755 */display: inline-block !important;position: relative;}#sk-container-id-6 div.sk-text-repr-fallback {display: none;}</style><div id=\"sk-container-id-6\" class=\"sk-top-container\"><div class=\"sk-text-repr-fallback\"><pre>XGBRFClassifier(base_score=0.5, booster=&#x27;gbtree&#x27;, colsample_bylevel=1,\n",
       "                colsample_bytree=1, enable_categorical=False, gamma=0,\n",
       "                gpu_id=-1, importance_type=None, interaction_constraints=&#x27;&#x27;,\n",
       "                max_delta_step=0, max_depth=6, min_child_weight=1, missing=nan,\n",
       "                monotone_constraints=&#x27;()&#x27;, n_estimators=100, n_jobs=28,\n",
       "                num_parallel_tree=100, objective=&#x27;binary:logistic&#x27;,\n",
       "                predictor=&#x27;auto&#x27;, random_state=0, reg_alpha=0,\n",
       "                scale_pos_weight=1, tree_method=&#x27;exact&#x27;, validate_parameters=1,\n",
       "                verbosity=None)</pre><b>In a Jupyter environment, please rerun this cell to show the HTML representation or trust the notebook. <br />On GitHub, the HTML representation is unable to render, please try loading this page with nbviewer.org.</b></div><div class=\"sk-container\" hidden><div class=\"sk-item\"><div class=\"sk-estimator sk-toggleable\"><input class=\"sk-toggleable__control sk-hidden--visually\" id=\"sk-estimator-id-6\" type=\"checkbox\" checked><label for=\"sk-estimator-id-6\" class=\"sk-toggleable__label sk-toggleable__label-arrow\">XGBRFClassifier</label><div class=\"sk-toggleable__content\"><pre>XGBRFClassifier(base_score=0.5, booster=&#x27;gbtree&#x27;, colsample_bylevel=1,\n",
       "                colsample_bytree=1, enable_categorical=False, gamma=0,\n",
       "                gpu_id=-1, importance_type=None, interaction_constraints=&#x27;&#x27;,\n",
       "                max_delta_step=0, max_depth=6, min_child_weight=1, missing=nan,\n",
       "                monotone_constraints=&#x27;()&#x27;, n_estimators=100, n_jobs=28,\n",
       "                num_parallel_tree=100, objective=&#x27;binary:logistic&#x27;,\n",
       "                predictor=&#x27;auto&#x27;, random_state=0, reg_alpha=0,\n",
       "                scale_pos_weight=1, tree_method=&#x27;exact&#x27;, validate_parameters=1,\n",
       "                verbosity=None)</pre></div></div></div></div></div>"
      ],
      "text/plain": [
       "XGBRFClassifier(base_score=0.5, booster='gbtree', colsample_bylevel=1,\n",
       "                colsample_bytree=1, enable_categorical=False, gamma=0,\n",
       "                gpu_id=-1, importance_type=None, interaction_constraints='',\n",
       "                max_delta_step=0, max_depth=6, min_child_weight=1, missing=nan,\n",
       "                monotone_constraints='()', n_estimators=100, n_jobs=28,\n",
       "                num_parallel_tree=100, objective='binary:logistic',\n",
       "                predictor='auto', random_state=0, reg_alpha=0,\n",
       "                scale_pos_weight=1, tree_method='exact', validate_parameters=1,\n",
       "                verbosity=None)"
      ]
     },
     "execution_count": 62,
     "metadata": {},
     "output_type": "execute_result"
    }
   ],
   "source": [
    "rf_onehot = xgb.XGBRFClassifier()\n",
    "rf_onehot.fit(X_train,y_train)\n"
   ]
  },
  {
   "cell_type": "code",
   "execution_count": 63,
   "id": "ff3fc2c3-78f9-4f75-a51d-13bf5ea4fe77",
   "metadata": {},
   "outputs": [
    {
     "name": "stdout",
     "output_type": "stream",
     "text": [
      "Accuracy  0.8131901899402716\n",
      "roc_auc 0.8621919615668425\n"
     ]
    }
   ],
   "source": [
    "evaluate_model(rf_onehot,X_test,y_test)"
   ]
  },
  {
   "cell_type": "code",
   "execution_count": 67,
   "id": "88a59941-7814-4b85-993e-f39b9d671b51",
   "metadata": {},
   "outputs": [
    {
     "data": {
      "text/plain": [
       "<AxesSubplot:>"
      ]
     },
     "execution_count": 67,
     "metadata": {},
     "output_type": "execute_result"
    },
    {
     "data": {
      "image/png": "[encoded data removed]",
      "text/plain": [
       "<Figure size 432x288 with 1 Axes>"
      ]
     },
     "metadata": {
      "needs_background": "light"
     },
     "output_type": "display_data"
    }
   ],
   "source": [
    "feat_importances = pd.Series(rf_onehot.feature_importances_, index=X_train.columns)\n",
    "feat_importances.nlargest(20).plot(kind='barh')"
   ]
  },
  {
   "cell_type": "code",
   "execution_count": null,
   "id": "0ae7255a-b89b-4403-bedc-65ad35b9c073",
   "metadata": {},
   "outputs": [],
   "source": [
    "# Logistic regression"
   ]
  },
  {
   "cell_type": "code",
   "execution_count": 7,
   "id": "cb29f1c7-20cf-4d18-9769-af3d72729bfb",
   "metadata": {},
   "outputs": [],
   "source": [
    "log = LogisticRegression(penalty='l1', solver='liblinear')"
   ]
  },
  {
   "cell_type": "code",
   "execution_count": 8,
   "id": "ac70f13f-23fa-412f-a1a5-417309591b75",
   "metadata": {},
   "outputs": [
    {
     "data": {
      "text/html": [
       "<style>#sk-container-id-1 {color: black;background-color: white;}#sk-container-id-1 pre{padding: 0;}#sk-container-id-1 div.sk-toggleable {background-color: white;}#sk-container-id-1 label.sk-toggleable__label {cursor: pointer;display: block;width: 100%;margin-bottom: 0;padding: 0.3em;box-sizing: border-box;text-align: center;}#sk-container-id-1 label.sk-toggleable__label-arrow:before {content: \"▸\";float: left;margin-right: 0.25em;color: #696969;}#sk-container-id-1 label.sk-toggleable__label-arrow:hover:before {color: black;}#sk-container-id-1 div.sk-estimator:hover label.sk-toggleable__label-arrow:before {color: black;}#sk-container-id-1 div.sk-toggleable__content {max-height: 0;max-width: 0;overflow: hidden;text-align: left;background-color: #f0f8ff;}#sk-container-id-1 div.sk-toggleable__content pre {margin: 0.2em;color: black;border-radius: 0.25em;background-color: #f0f8ff;}#sk-container-id-1 input.sk-toggleable__control:checked~div.sk-toggleable__content {max-height: 200px;max-width: 100%;overflow: auto;}#sk-container-id-1 input.sk-toggleable__control:checked~label.sk-toggleable__label-arrow:before {content: \"▾\";}#sk-container-id-1 div.sk-estimator input.sk-toggleable__control:checked~label.sk-toggleable__label {background-color: #d4ebff;}#sk-container-id-1 div.sk-label input.sk-toggleable__control:checked~label.sk-toggleable__label {background-color: #d4ebff;}#sk-container-id-1 input.sk-hidden--visually {border: 0;clip: rect(1px 1px 1px 1px);clip: rect(1px, 1px, 1px, 1px);height: 1px;margin: -1px;overflow: hidden;padding: 0;position: absolute;width: 1px;}#sk-container-id-1 div.sk-estimator {font-family: monospace;background-color: #f0f8ff;border: 1px dotted black;border-radius: 0.25em;box-sizing: border-box;margin-bottom: 0.5em;}#sk-container-id-1 div.sk-estimator:hover {background-color: #d4ebff;}#sk-container-id-1 div.sk-parallel-item::after {content: \"\";width: 100%;border-bottom: 1px solid gray;flex-grow: 1;}#sk-container-id-1 div.sk-label:hover label.sk-toggleable__label {background-color: #d4ebff;}#sk-container-id-1 div.sk-serial::before {content: \"\";position: absolute;border-left: 1px solid gray;box-sizing: border-box;top: 0;bottom: 0;left: 50%;z-index: 0;}#sk-container-id-1 div.sk-serial {display: flex;flex-direction: column;align-items: center;background-color: white;padding-right: 0.2em;padding-left: 0.2em;position: relative;}#sk-container-id-1 div.sk-item {position: relative;z-index: 1;}#sk-container-id-1 div.sk-parallel {display: flex;align-items: stretch;justify-content: center;background-color: white;position: relative;}#sk-container-id-1 div.sk-item::before, #sk-container-id-1 div.sk-parallel-item::before {content: \"\";position: absolute;border-left: 1px solid gray;box-sizing: border-box;top: 0;bottom: 0;left: 50%;z-index: -1;}#sk-container-id-1 div.sk-parallel-item {display: flex;flex-direction: column;z-index: 1;position: relative;background-color: white;}#sk-container-id-1 div.sk-parallel-item:first-child::after {align-self: flex-end;width: 50%;}#sk-container-id-1 div.sk-parallel-item:last-child::after {align-self: flex-start;width: 50%;}#sk-container-id-1 div.sk-parallel-item:only-child::after {width: 0;}#sk-container-id-1 div.sk-dashed-wrapped {border: 1px dashed gray;margin: 0 0.4em 0.5em 0.4em;box-sizing: border-box;padding-bottom: 0.4em;background-color: white;}#sk-container-id-1 div.sk-label label {font-family: monospace;font-weight: bold;display: inline-block;line-height: 1.2em;}#sk-container-id-1 div.sk-label-container {text-align: center;}#sk-container-id-1 div.sk-container {/* jupyter's `normalize.less` sets `[hidden] { display: none; }` but bootstrap.min.css set `[hidden] { display: none !important; }` so we also need the `!important` here to be able to override the default hidden behavior on the sphinx rendered scikit-learn.org. See: https://github.com/scikit-learn/scikit-learn/issues/21755 */display: inline-block !important;position: relative;}#sk-container-id-1 div.sk-text-repr-fallback {display: none;}</style><div id=\"sk-container-id-1\" class=\"sk-top-container\"><div class=\"sk-text-repr-fallback\"><pre>LogisticRegression(penalty=&#x27;l1&#x27;, solver=&#x27;liblinear&#x27;)</pre><b>In a Jupyter environment, please rerun this cell to show the HTML representation or trust the notebook. <br />On GitHub, the HTML representation is unable to render, please try loading this page with nbviewer.org.</b></div><div class=\"sk-container\" hidden><div class=\"sk-item\"><div class=\"sk-estimator sk-toggleable\"><input class=\"sk-toggleable__control sk-hidden--visually\" id=\"sk-estimator-id-1\" type=\"checkbox\" checked><label for=\"sk-estimator-id-1\" class=\"sk-toggleable__label sk-toggleable__label-arrow\">LogisticRegression</label><div class=\"sk-toggleable__content\"><pre>LogisticRegression(penalty=&#x27;l1&#x27;, solver=&#x27;liblinear&#x27;)</pre></div></div></div></div></div>"
      ],
      "text/plain": [
       "LogisticRegression(penalty='l1', solver='liblinear')"
      ]
     },
     "execution_count": 8,
     "metadata": {},
     "output_type": "execute_result"
    }
   ],
   "source": [
    "log.fit(X_train,y_train)"
   ]
  },
  {
   "cell_type": "code",
   "execution_count": 14,
   "id": "9b81ae8d-4e71-4986-a507-e1543ecc0462",
   "metadata": {},
   "outputs": [
    {
     "name": "stdout",
     "output_type": "stream",
     "text": [
      "Accuracy  0.8354299103113176\n",
      "roc_auc 0.8972424117133684\n"
     ]
    }
   ],
   "source": [
    "evaluate_model(log,X_test,y_test)"
   ]
  },
  {
   "cell_type": "code",
   "execution_count": 16,
   "id": "935e16ef-7e80-4cb2-b159-d58ed95e8b09",
   "metadata": {},
   "outputs": [
    {
     "data": {
      "text/plain": [
       "(array([[0., 0., 0., ..., 0., 0., 0.],\n",
       "        [0., 0., 0., ..., 0., 0., 0.],\n",
       "        [0., 0., 0., ..., 0., 0., 0.],\n",
       "        ...,\n",
       "        [0., 0., 0., ..., 0., 0., 0.],\n",
       "        [0., 0., 0., ..., 0., 0., 0.],\n",
       "        [0., 0., 0., ..., 0., 0., 0.]]),\n",
       " array([-3.84794375, -2.97933971, -2.11073568, -1.24213164, -0.37352761,\n",
       "         0.49507642,  1.36368046,  2.23228449,  3.10088853,  3.96949256,\n",
       "         4.83809659]),\n",
       " <a list of 933 BarContainer objects>)"
      ]
     },
     "execution_count": 16,
     "metadata": {},
     "output_type": "execute_result"
    },
    {
     "data": {
      "image/png": "[encoded data removed]",
      "text/plain": [
       "<Figure size 432x288 with 1 Axes>"
      ]
     },
     "metadata": {
      "needs_background": "light"
     },
     "output_type": "display_data"
    }
   ],
   "source": [
    "from matplotlib import pyplot as plt\n",
    "plt.hist(log.coef_)"
   ]
  },
  {
   "cell_type": "code",
   "execution_count": 23,
   "id": "14372feb-1700-4ebf-a782-9fe17d77db3a",
   "metadata": {},
   "outputs": [],
   "source": [
    "coefs = np.abs(log.coef_[0])\n",
    "top_three = np.argpartition(coefs, -10)[-10:]"
   ]
  },
  {
   "cell_type": "code",
   "execution_count": 24,
   "id": "a63874a9-d68d-4599-b86f-6ffdc37c2efd",
   "metadata": {},
   "outputs": [
    {
     "data": {
      "text/plain": [
       "Index(['gsw', 'nose', 'stabbing', 'orbital', 'gib', 'rci', 'nstemi', 'iph',\n",
       "       'intubated', 'sepsis'],\n",
       "      dtype='object')"
      ]
     },
     "execution_count": 24,
     "metadata": {},
     "output_type": "execute_result"
    }
   ],
   "source": [
    "X_train.columns[top_three]"
   ]
  },
  {
   "cell_type": "code",
   "execution_count": 130,
   "id": "b96967e6-24a5-4169-a23b-b258cc622bbc",
   "metadata": {},
   "outputs": [
    {
     "name": "stdout",
     "output_type": "stream",
     "text": [
      "loading and processing mimic files...\n",
      "merging...\n",
      "adding columns..\n",
      "previous visits..\n",
      "removing outliers...\n",
      "Cleaning Text Features...\n",
      "finished processing dataset.\n",
      "size: (173561, 18), cases: 0.3087617609946935\n",
      "dataset columns: Index(['admission_location', 'temperature', 'heartrate', 'resprate', 'o2sat',\n",
      "       'sbp', 'dbp', 'pain', 'acuity', 'insurance', 'language',\n",
      "       'marital_status', 'ethnicity', 'chiefcomplaint', 'gender',\n",
      "       'anchor_year_group', 'prev_visit', 'y'],\n",
      "      dtype='object')\n",
      "          admission_location  temperature  heartrate  resprate  o2sat    sbp  \\\n",
      "stay_id                                                                        \n",
      "38649090      EMERGENCY ROOM          NaN        NaN       NaN    NaN    NaN   \n",
      "38851307  PHYSICIAN REFERRAL         97.5       81.0      17.0  100.0  167.0   \n",
      "32221725                PACU         98.2      111.0      18.0   96.0  100.0   \n",
      "34454487      EMERGENCY ROOM         98.9       87.0      20.0   99.0  140.0   \n",
      "35742023  PHYSICIAN REFERRAL         97.0       99.0      18.0  100.0  168.0   \n",
      "\n",
      "           dbp  pain  acuity insurance language marital_status  \\\n",
      "stay_id                                                          \n",
      "38649090   NaN   NaN     NaN  Medicare  ENGLISH         SINGLE   \n",
      "38851307  96.0   0.0     3.0  Medicare  ENGLISH        MARRIED   \n",
      "32221725  66.0   5.0     2.0     Other  ENGLISH        MARRIED   \n",
      "34454487  83.0   6.0     1.0     Other  ENGLISH        MARRIED   \n",
      "35742023  84.0   0.0     3.0  Medicaid  ENGLISH         SINGLE   \n",
      "\n",
      "                       ethnicity  chiefcomplaint gender anchor_year_group  \\\n",
      "stay_id                                                                     \n",
      "38649090                   WHITE            1961      F       2011 - 2013   \n",
      "38851307  BLACK/AFRICAN AMERICAN            2024      F       2017 - 2019   \n",
      "32221725                   WHITE            1530      F       2017 - 2019   \n",
      "34454487                   WHITE            1209      M       2011 - 2013   \n",
      "35742023                   WHITE            2287      F       2017 - 2019   \n",
      "\n",
      "          prev_visit      y  \n",
      "stay_id                      \n",
      "38649090           0   True  \n",
      "38851307           0  False  \n",
      "32221725           0  False  \n",
      "34454487           0  False  \n",
      "35742023           0   True  \n",
      "saving...\n",
      "done.\n"
     ]
    }
   ],
   "source": [
    "process_data(adm_path,ed_path,tri_path,patient_path,results_path='label_final.csv',label=True)"
   ]
  },
  {
   "cell_type": "code",
   "execution_count": 27,
   "id": "a8147397-00ee-45f2-9dcb-03b2332ea147",
   "metadata": {},
   "outputs": [],
   "source": [
    "df_label = pd.read_csv('label_final.csv')"
   ]
  },
  {
   "cell_type": "code",
   "execution_count": 31,
   "id": "49f5ea88-f0f2-46df-9c52-b3dcda8b444c",
   "metadata": {},
   "outputs": [],
   "source": [
    "def read_file(filename, label='y', one_hot_encode=False):\n",
    "    \n",
    "    \n",
    "    input_data = pd.read_csv(filename)\n",
    "    # Drop these data for now,\n",
    "    X = input_data.drop([label],axis = 1)\n",
    "    # feature_names = [x for x in input_data.columns.values if x != label]\n",
    "    # feature_names = np.array(feature_names)\n",
    "\n",
    "    # X = pd.get_dummies(input_data)\n",
    "    # ipdb.set_trace()\n",
    "    encodings={}\n",
    "    for c in X.select_dtypes(['object','category']).columns:\n",
    "#         print(c)\n",
    "        le = LabelEncoder()\n",
    "        X[c] = le.fit_transform(X[c])\n",
    "        encodings[c] = {k:list(v) if isinstance(v, np.ndarray) else v \n",
    "                        for k,v in vars(le).items()\n",
    "                       }\n",
    "\n",
    "    with open('label_encodings.json','w') as of:\n",
    "        json.dump(encodings, of)\n",
    "\n",
    "    # if one_hot_encode:\n",
    "    #     X = pd.get_dummies(input_data)\n",
    "    # else:\n",
    "    #     X = input_data\n",
    "\n",
    "    # X = X.values.astype(float)\n",
    "    y = input_data[label].astype(int)\n",
    "        # Note that feature name might not be the same as dataset, as we use\n",
    "    # one-hot encoding here\n",
    "    # assert(X.shape[1] == feature_names.shape[0])\n",
    "\n",
    "    return X, y "
   ]
  },
  {
   "cell_type": "code",
   "execution_count": 68,
   "id": "f7c19fac-52ce-454e-a0e7-bc9831b3bc09",
   "metadata": {},
   "outputs": [],
   "source": [
    "X,y = read_file('label_final.csv')"
   ]
  },
  {
   "cell_type": "code",
   "execution_count": 69,
   "id": "6c610b41-7514-4ca1-b6fb-ca686b8e76f8",
   "metadata": {},
   "outputs": [],
   "source": [
    "seed = 109\n",
    "test_size = 0.3\n",
    "X_train, X_test, y_train, y_test = train_test_split(X, y, test_size=test_size, random_state=seed)"
   ]
  },
  {
   "cell_type": "code",
   "execution_count": 70,
   "id": "741b56b0-f353-4c72-8992-d47e363681a3",
   "metadata": {},
   "outputs": [
    {
     "name": "stdout",
     "output_type": "stream",
     "text": [
      "[19:15:25] WARNING: ../src/learner.cc:1115: Starting in XGBoost 1.3.0, the default evaluation metric used with the objective 'binary:logistic' was changed from 'error' to 'logloss'. Explicitly set eval_metric if you'd like to restore the old behavior.\n"
     ]
    },
    {
     "data": {
      "text/html": [
       "<style>#sk-container-id-7 {color: black;background-color: white;}#sk-container-id-7 pre{padding: 0;}#sk-container-id-7 div.sk-toggleable {background-color: white;}#sk-container-id-7 label.sk-toggleable__label {cursor: pointer;display: block;width: 100%;margin-bottom: 0;padding: 0.3em;box-sizing: border-box;text-align: center;}#sk-container-id-7 label.sk-toggleable__label-arrow:before {content: \"▸\";float: left;margin-right: 0.25em;color: #696969;}#sk-container-id-7 label.sk-toggleable__label-arrow:hover:before {color: black;}#sk-container-id-7 div.sk-estimator:hover label.sk-toggleable__label-arrow:before {color: black;}#sk-container-id-7 div.sk-toggleable__content {max-height: 0;max-width: 0;overflow: hidden;text-align: left;background-color: #f0f8ff;}#sk-container-id-7 div.sk-toggleable__content pre {margin: 0.2em;color: black;border-radius: 0.25em;background-color: #f0f8ff;}#sk-container-id-7 input.sk-toggleable__control:checked~div.sk-toggleable__content {max-height: 200px;max-width: 100%;overflow: auto;}#sk-container-id-7 input.sk-toggleable__control:checked~label.sk-toggleable__label-arrow:before {content: \"▾\";}#sk-container-id-7 div.sk-estimator input.sk-toggleable__control:checked~label.sk-toggleable__label {background-color: #d4ebff;}#sk-container-id-7 div.sk-label input.sk-toggleable__control:checked~label.sk-toggleable__label {background-color: #d4ebff;}#sk-container-id-7 input.sk-hidden--visually {border: 0;clip: rect(1px 1px 1px 1px);clip: rect(1px, 1px, 1px, 1px);height: 1px;margin: -1px;overflow: hidden;padding: 0;position: absolute;width: 1px;}#sk-container-id-7 div.sk-estimator {font-family: monospace;background-color: #f0f8ff;border: 1px dotted black;border-radius: 0.25em;box-sizing: border-box;margin-bottom: 0.5em;}#sk-container-id-7 div.sk-estimator:hover {background-color: #d4ebff;}#sk-container-id-7 div.sk-parallel-item::after {content: \"\";width: 100%;border-bottom: 1px solid gray;flex-grow: 1;}#sk-container-id-7 div.sk-label:hover label.sk-toggleable__label {background-color: #d4ebff;}#sk-container-id-7 div.sk-serial::before {content: \"\";position: absolute;border-left: 1px solid gray;box-sizing: border-box;top: 0;bottom: 0;left: 50%;z-index: 0;}#sk-container-id-7 div.sk-serial {display: flex;flex-direction: column;align-items: center;background-color: white;padding-right: 0.2em;padding-left: 0.2em;position: relative;}#sk-container-id-7 div.sk-item {position: relative;z-index: 1;}#sk-container-id-7 div.sk-parallel {display: flex;align-items: stretch;justify-content: center;background-color: white;position: relative;}#sk-container-id-7 div.sk-item::before, #sk-container-id-7 div.sk-parallel-item::before {content: \"\";position: absolute;border-left: 1px solid gray;box-sizing: border-box;top: 0;bottom: 0;left: 50%;z-index: -1;}#sk-container-id-7 div.sk-parallel-item {display: flex;flex-direction: column;z-index: 1;position: relative;background-color: white;}#sk-container-id-7 div.sk-parallel-item:first-child::after {align-self: flex-end;width: 50%;}#sk-container-id-7 div.sk-parallel-item:last-child::after {align-self: flex-start;width: 50%;}#sk-container-id-7 div.sk-parallel-item:only-child::after {width: 0;}#sk-container-id-7 div.sk-dashed-wrapped {border: 1px dashed gray;margin: 0 0.4em 0.5em 0.4em;box-sizing: border-box;padding-bottom: 0.4em;background-color: white;}#sk-container-id-7 div.sk-label label {font-family: monospace;font-weight: bold;display: inline-block;line-height: 1.2em;}#sk-container-id-7 div.sk-label-container {text-align: center;}#sk-container-id-7 div.sk-container {/* jupyter's `normalize.less` sets `[hidden] { display: none; }` but bootstrap.min.css set `[hidden] { display: none !important; }` so we also need the `!important` here to be able to override the default hidden behavior on the sphinx rendered scikit-learn.org. See: https://github.com/scikit-learn/scikit-learn/issues/21755 */display: inline-block !important;position: relative;}#sk-container-id-7 div.sk-text-repr-fallback {display: none;}</style><div id=\"sk-container-id-7\" class=\"sk-top-container\"><div class=\"sk-text-repr-fallback\"><pre>XGBClassifier(base_score=0.5, booster=&#x27;gbtree&#x27;, colsample_bylevel=1,\n",
       "              colsample_bynode=1, colsample_bytree=1, enable_categorical=False,\n",
       "              gamma=0, gpu_id=-1, importance_type=None,\n",
       "              interaction_constraints=&#x27;&#x27;, learning_rate=0.300000012,\n",
       "              max_delta_step=0, max_depth=6, min_child_weight=1, missing=nan,\n",
       "              monotone_constraints=&#x27;()&#x27;, n_estimators=100, n_jobs=28,\n",
       "              num_parallel_tree=1, predictor=&#x27;auto&#x27;, random_state=0,\n",
       "              reg_alpha=0, reg_lambda=1, scale_pos_weight=1, subsample=1,\n",
       "              tree_method=&#x27;exact&#x27;, validate_parameters=1, verbosity=None)</pre><b>In a Jupyter environment, please rerun this cell to show the HTML representation or trust the notebook. <br />On GitHub, the HTML representation is unable to render, please try loading this page with nbviewer.org.</b></div><div class=\"sk-container\" hidden><div class=\"sk-item\"><div class=\"sk-estimator sk-toggleable\"><input class=\"sk-toggleable__control sk-hidden--visually\" id=\"sk-estimator-id-7\" type=\"checkbox\" checked><label for=\"sk-estimator-id-7\" class=\"sk-toggleable__label sk-toggleable__label-arrow\">XGBClassifier</label><div class=\"sk-toggleable__content\"><pre>XGBClassifier(base_score=0.5, booster=&#x27;gbtree&#x27;, colsample_bylevel=1,\n",
       "              colsample_bynode=1, colsample_bytree=1, enable_categorical=False,\n",
       "              gamma=0, gpu_id=-1, importance_type=None,\n",
       "              interaction_constraints=&#x27;&#x27;, learning_rate=0.300000012,\n",
       "              max_delta_step=0, max_depth=6, min_child_weight=1, missing=nan,\n",
       "              monotone_constraints=&#x27;()&#x27;, n_estimators=100, n_jobs=28,\n",
       "              num_parallel_tree=1, predictor=&#x27;auto&#x27;, random_state=0,\n",
       "              reg_alpha=0, reg_lambda=1, scale_pos_weight=1, subsample=1,\n",
       "              tree_method=&#x27;exact&#x27;, validate_parameters=1, verbosity=None)</pre></div></div></div></div></div>"
      ],
      "text/plain": [
       "XGBClassifier(base_score=0.5, booster='gbtree', colsample_bylevel=1,\n",
       "              colsample_bynode=1, colsample_bytree=1, enable_categorical=False,\n",
       "              gamma=0, gpu_id=-1, importance_type=None,\n",
       "              interaction_constraints='', learning_rate=0.300000012,\n",
       "              max_delta_step=0, max_depth=6, min_child_weight=1, missing=nan,\n",
       "              monotone_constraints='()', n_estimators=100, n_jobs=28,\n",
       "              num_parallel_tree=1, predictor='auto', random_state=0,\n",
       "              reg_alpha=0, reg_lambda=1, scale_pos_weight=1, subsample=1,\n",
       "              tree_method='exact', validate_parameters=1, verbosity=None)"
      ]
     },
     "execution_count": 70,
     "metadata": {},
     "output_type": "execute_result"
    }
   ],
   "source": [
    "# instantiate the classifier \n",
    "model_xgb_label = xgb.XGBClassifier()\n",
    "# fit the classifier to the training data\n",
    "model_xgb_label.fit(X_train, y_train)"
   ]
  },
  {
   "cell_type": "code",
   "execution_count": 72,
   "id": "2a48829a-2e21-4a5b-b574-247c90d6b8d1",
   "metadata": {},
   "outputs": [
    {
     "name": "stdout",
     "output_type": "stream",
     "text": [
      "Accuracy  0.8521769190881331\n",
      "roc_auc 0.9142327981636295\n"
     ]
    }
   ],
   "source": [
    "evaluate_model(model_xgb_label,X_test,y_test)"
   ]
  },
  {
   "cell_type": "code",
   "execution_count": 73,
   "id": "857fded8-dd40-420e-8c16-c2229ceea82c",
   "metadata": {},
   "outputs": [
    {
     "data": {
      "text/plain": [
       "<AxesSubplot:title={'center':'Feature importance'}, xlabel='F score', ylabel='Features'>"
      ]
     },
     "execution_count": 73,
     "metadata": {},
     "output_type": "execute_result"
    },
    {
     "data": {
      "image/png": "[encoded data removed]",
      "text/plain": [
       "<Figure size 432x288 with 1 Axes>"
      ]
     },
     "metadata": {
      "needs_background": "light"
     },
     "output_type": "display_data"
    }
   ],
   "source": [
    "xgb.plot_importance(model_xgb_label,max_num_features=50)"
   ]
  },
  {
   "cell_type": "code",
   "execution_count": 42,
   "id": "5d04df92-b53c-4350-ab04-63ddd406aa55",
   "metadata": {},
   "outputs": [],
   "source": [
    "X_train = X_train.fillna(X_train.median())\n",
    "X_test = X_test.fillna(X_test.median())"
   ]
  },
  {
   "cell_type": "code",
   "execution_count": 43,
   "id": "d63a07da-556c-4f6f-b9c2-5883081eefeb",
   "metadata": {},
   "outputs": [
    {
     "data": {
      "text/html": [
       "<style>#sk-container-id-3 {color: black;background-color: white;}#sk-container-id-3 pre{padding: 0;}#sk-container-id-3 div.sk-toggleable {background-color: white;}#sk-container-id-3 label.sk-toggleable__label {cursor: pointer;display: block;width: 100%;margin-bottom: 0;padding: 0.3em;box-sizing: border-box;text-align: center;}#sk-container-id-3 label.sk-toggleable__label-arrow:before {content: \"▸\";float: left;margin-right: 0.25em;color: #696969;}#sk-container-id-3 label.sk-toggleable__label-arrow:hover:before {color: black;}#sk-container-id-3 div.sk-estimator:hover label.sk-toggleable__label-arrow:before {color: black;}#sk-container-id-3 div.sk-toggleable__content {max-height: 0;max-width: 0;overflow: hidden;text-align: left;background-color: #f0f8ff;}#sk-container-id-3 div.sk-toggleable__content pre {margin: 0.2em;color: black;border-radius: 0.25em;background-color: #f0f8ff;}#sk-container-id-3 input.sk-toggleable__control:checked~div.sk-toggleable__content {max-height: 200px;max-width: 100%;overflow: auto;}#sk-container-id-3 input.sk-toggleable__control:checked~label.sk-toggleable__label-arrow:before {content: \"▾\";}#sk-container-id-3 div.sk-estimator input.sk-toggleable__control:checked~label.sk-toggleable__label {background-color: #d4ebff;}#sk-container-id-3 div.sk-label input.sk-toggleable__control:checked~label.sk-toggleable__label {background-color: #d4ebff;}#sk-container-id-3 input.sk-hidden--visually {border: 0;clip: rect(1px 1px 1px 1px);clip: rect(1px, 1px, 1px, 1px);height: 1px;margin: -1px;overflow: hidden;padding: 0;position: absolute;width: 1px;}#sk-container-id-3 div.sk-estimator {font-family: monospace;background-color: #f0f8ff;border: 1px dotted black;border-radius: 0.25em;box-sizing: border-box;margin-bottom: 0.5em;}#sk-container-id-3 div.sk-estimator:hover {background-color: #d4ebff;}#sk-container-id-3 div.sk-parallel-item::after {content: \"\";width: 100%;border-bottom: 1px solid gray;flex-grow: 1;}#sk-container-id-3 div.sk-label:hover label.sk-toggleable__label {background-color: #d4ebff;}#sk-container-id-3 div.sk-serial::before {content: \"\";position: absolute;border-left: 1px solid gray;box-sizing: border-box;top: 0;bottom: 0;left: 50%;z-index: 0;}#sk-container-id-3 div.sk-serial {display: flex;flex-direction: column;align-items: center;background-color: white;padding-right: 0.2em;padding-left: 0.2em;position: relative;}#sk-container-id-3 div.sk-item {position: relative;z-index: 1;}#sk-container-id-3 div.sk-parallel {display: flex;align-items: stretch;justify-content: center;background-color: white;position: relative;}#sk-container-id-3 div.sk-item::before, #sk-container-id-3 div.sk-parallel-item::before {content: \"\";position: absolute;border-left: 1px solid gray;box-sizing: border-box;top: 0;bottom: 0;left: 50%;z-index: -1;}#sk-container-id-3 div.sk-parallel-item {display: flex;flex-direction: column;z-index: 1;position: relative;background-color: white;}#sk-container-id-3 div.sk-parallel-item:first-child::after {align-self: flex-end;width: 50%;}#sk-container-id-3 div.sk-parallel-item:last-child::after {align-self: flex-start;width: 50%;}#sk-container-id-3 div.sk-parallel-item:only-child::after {width: 0;}#sk-container-id-3 div.sk-dashed-wrapped {border: 1px dashed gray;margin: 0 0.4em 0.5em 0.4em;box-sizing: border-box;padding-bottom: 0.4em;background-color: white;}#sk-container-id-3 div.sk-label label {font-family: monospace;font-weight: bold;display: inline-block;line-height: 1.2em;}#sk-container-id-3 div.sk-label-container {text-align: center;}#sk-container-id-3 div.sk-container {/* jupyter's `normalize.less` sets `[hidden] { display: none; }` but bootstrap.min.css set `[hidden] { display: none !important; }` so we also need the `!important` here to be able to override the default hidden behavior on the sphinx rendered scikit-learn.org. See: https://github.com/scikit-learn/scikit-learn/issues/21755 */display: inline-block !important;position: relative;}#sk-container-id-3 div.sk-text-repr-fallback {display: none;}</style><div id=\"sk-container-id-3\" class=\"sk-top-container\"><div class=\"sk-text-repr-fallback\"><pre>LogisticRegression(penalty=&#x27;l1&#x27;, solver=&#x27;liblinear&#x27;)</pre><b>In a Jupyter environment, please rerun this cell to show the HTML representation or trust the notebook. <br />On GitHub, the HTML representation is unable to render, please try loading this page with nbviewer.org.</b></div><div class=\"sk-container\" hidden><div class=\"sk-item\"><div class=\"sk-estimator sk-toggleable\"><input class=\"sk-toggleable__control sk-hidden--visually\" id=\"sk-estimator-id-3\" type=\"checkbox\" checked><label for=\"sk-estimator-id-3\" class=\"sk-toggleable__label sk-toggleable__label-arrow\">LogisticRegression</label><div class=\"sk-toggleable__content\"><pre>LogisticRegression(penalty=&#x27;l1&#x27;, solver=&#x27;liblinear&#x27;)</pre></div></div></div></div></div>"
      ],
      "text/plain": [
       "LogisticRegression(penalty='l1', solver='liblinear')"
      ]
     },
     "execution_count": 43,
     "metadata": {},
     "output_type": "execute_result"
    }
   ],
   "source": [
    "log_label = LogisticRegression(penalty='l1', solver='liblinear')\n",
    "log_label.fit(X_train,y_train)"
   ]
  },
  {
   "cell_type": "code",
   "execution_count": 44,
   "id": "31c5ea08-41b8-47ae-b1b9-619ffaec5314",
   "metadata": {},
   "outputs": [
    {
     "name": "stdout",
     "output_type": "stream",
     "text": [
      "Accuracy  0.796846492154641\n",
      "roc_auc 0.8572981205082163\n"
     ]
    }
   ],
   "source": [
    "evaluate_model(log_label,X_test,y_test)"
   ]
  },
  {
   "cell_type": "code",
   "execution_count": 47,
   "id": "c404a294-f765-429b-8c19-c23d17e52b0a",
   "metadata": {},
   "outputs": [],
   "source": [
    "coefs = np.abs(log_label.coef_[0])\n",
    "top_three = np.argpartition(coefs, -10)[-10:]"
   ]
  },
  {
   "cell_type": "code",
   "execution_count": 48,
   "id": "8a13937f-4741-444e-8a33-b965fd8a739e",
   "metadata": {},
   "outputs": [
    {
     "data": {
      "text/plain": [
       "Index(['marital_status', 'ethnicity', 'insurance', 'language', 'temperature',\n",
       "       'o2sat', 'prev_visit', 'gender', 'anchor_year_group', 'acuity'],\n",
       "      dtype='object')"
      ]
     },
     "execution_count": 48,
     "metadata": {},
     "output_type": "execute_result"
    }
   ],
   "source": [
    "X_train.columns[top_three]"
   ]
  },
  {
   "cell_type": "code",
   "execution_count": null,
   "id": "94ff49bb-0e07-4a41-90a3-d0d9ae695a6e",
   "metadata": {},
   "outputs": [],
   "source": [
    "# Random forest"
   ]
  },
  {
   "cell_type": "code",
   "execution_count": 52,
   "id": "85a268d8-d23e-4bab-8992-a60bce1165eb",
   "metadata": {},
   "outputs": [
    {
     "name": "stdout",
     "output_type": "stream",
     "text": [
      "[19:12:22] WARNING: ../src/learner.cc:1115: Starting in XGBoost 1.3.0, the default evaluation metric used with the objective 'binary:logistic' was changed from 'error' to 'logloss'. Explicitly set eval_metric if you'd like to restore the old behavior.\n"
     ]
    },
    {
     "data": {
      "text/html": [
       "<style>#sk-container-id-5 {color: black;background-color: white;}#sk-container-id-5 pre{padding: 0;}#sk-container-id-5 div.sk-toggleable {background-color: white;}#sk-container-id-5 label.sk-toggleable__label {cursor: pointer;display: block;width: 100%;margin-bottom: 0;padding: 0.3em;box-sizing: border-box;text-align: center;}#sk-container-id-5 label.sk-toggleable__label-arrow:before {content: \"▸\";float: left;margin-right: 0.25em;color: #696969;}#sk-container-id-5 label.sk-toggleable__label-arrow:hover:before {color: black;}#sk-container-id-5 div.sk-estimator:hover label.sk-toggleable__label-arrow:before {color: black;}#sk-container-id-5 div.sk-toggleable__content {max-height: 0;max-width: 0;overflow: hidden;text-align: left;background-color: #f0f8ff;}#sk-container-id-5 div.sk-toggleable__content pre {margin: 0.2em;color: black;border-radius: 0.25em;background-color: #f0f8ff;}#sk-container-id-5 input.sk-toggleable__control:checked~div.sk-toggleable__content {max-height: 200px;max-width: 100%;overflow: auto;}#sk-container-id-5 input.sk-toggleable__control:checked~label.sk-toggleable__label-arrow:before {content: \"▾\";}#sk-container-id-5 div.sk-estimator input.sk-toggleable__control:checked~label.sk-toggleable__label {background-color: #d4ebff;}#sk-container-id-5 div.sk-label input.sk-toggleable__control:checked~label.sk-toggleable__label {background-color: #d4ebff;}#sk-container-id-5 input.sk-hidden--visually {border: 0;clip: rect(1px 1px 1px 1px);clip: rect(1px, 1px, 1px, 1px);height: 1px;margin: -1px;overflow: hidden;padding: 0;position: absolute;width: 1px;}#sk-container-id-5 div.sk-estimator {font-family: monospace;background-color: #f0f8ff;border: 1px dotted black;border-radius: 0.25em;box-sizing: border-box;margin-bottom: 0.5em;}#sk-container-id-5 div.sk-estimator:hover {background-color: #d4ebff;}#sk-container-id-5 div.sk-parallel-item::after {content: \"\";width: 100%;border-bottom: 1px solid gray;flex-grow: 1;}#sk-container-id-5 div.sk-label:hover label.sk-toggleable__label {background-color: #d4ebff;}#sk-container-id-5 div.sk-serial::before {content: \"\";position: absolute;border-left: 1px solid gray;box-sizing: border-box;top: 0;bottom: 0;left: 50%;z-index: 0;}#sk-container-id-5 div.sk-serial {display: flex;flex-direction: column;align-items: center;background-color: white;padding-right: 0.2em;padding-left: 0.2em;position: relative;}#sk-container-id-5 div.sk-item {position: relative;z-index: 1;}#sk-container-id-5 div.sk-parallel {display: flex;align-items: stretch;justify-content: center;background-color: white;position: relative;}#sk-container-id-5 div.sk-item::before, #sk-container-id-5 div.sk-parallel-item::before {content: \"\";position: absolute;border-left: 1px solid gray;box-sizing: border-box;top: 0;bottom: 0;left: 50%;z-index: -1;}#sk-container-id-5 div.sk-parallel-item {display: flex;flex-direction: column;z-index: 1;position: relative;background-color: white;}#sk-container-id-5 div.sk-parallel-item:first-child::after {align-self: flex-end;width: 50%;}#sk-container-id-5 div.sk-parallel-item:last-child::after {align-self: flex-start;width: 50%;}#sk-container-id-5 div.sk-parallel-item:only-child::after {width: 0;}#sk-container-id-5 div.sk-dashed-wrapped {border: 1px dashed gray;margin: 0 0.4em 0.5em 0.4em;box-sizing: border-box;padding-bottom: 0.4em;background-color: white;}#sk-container-id-5 div.sk-label label {font-family: monospace;font-weight: bold;display: inline-block;line-height: 1.2em;}#sk-container-id-5 div.sk-label-container {text-align: center;}#sk-container-id-5 div.sk-container {/* jupyter's `normalize.less` sets `[hidden] { display: none; }` but bootstrap.min.css set `[hidden] { display: none !important; }` so we also need the `!important` here to be able to override the default hidden behavior on the sphinx rendered scikit-learn.org. See: https://github.com/scikit-learn/scikit-learn/issues/21755 */display: inline-block !important;position: relative;}#sk-container-id-5 div.sk-text-repr-fallback {display: none;}</style><div id=\"sk-container-id-5\" class=\"sk-top-container\"><div class=\"sk-text-repr-fallback\"><pre>XGBRFClassifier(base_score=0.5, booster=&#x27;gbtree&#x27;, colsample_bylevel=1,\n",
       "                colsample_bytree=1, enable_categorical=False, gamma=0,\n",
       "                gpu_id=-1, importance_type=None, interaction_constraints=&#x27;&#x27;,\n",
       "                max_delta_step=0, max_depth=6, min_child_weight=1, missing=nan,\n",
       "                monotone_constraints=&#x27;()&#x27;, n_estimators=100, n_jobs=28,\n",
       "                num_parallel_tree=100, objective=&#x27;binary:logistic&#x27;,\n",
       "                predictor=&#x27;auto&#x27;, random_state=0, reg_alpha=0,\n",
       "                scale_pos_weight=1, tree_method=&#x27;exact&#x27;, validate_parameters=1,\n",
       "                verbosity=None)</pre><b>In a Jupyter environment, please rerun this cell to show the HTML representation or trust the notebook. <br />On GitHub, the HTML representation is unable to render, please try loading this page with nbviewer.org.</b></div><div class=\"sk-container\" hidden><div class=\"sk-item\"><div class=\"sk-estimator sk-toggleable\"><input class=\"sk-toggleable__control sk-hidden--visually\" id=\"sk-estimator-id-5\" type=\"checkbox\" checked><label for=\"sk-estimator-id-5\" class=\"sk-toggleable__label sk-toggleable__label-arrow\">XGBRFClassifier</label><div class=\"sk-toggleable__content\"><pre>XGBRFClassifier(base_score=0.5, booster=&#x27;gbtree&#x27;, colsample_bylevel=1,\n",
       "                colsample_bytree=1, enable_categorical=False, gamma=0,\n",
       "                gpu_id=-1, importance_type=None, interaction_constraints=&#x27;&#x27;,\n",
       "                max_delta_step=0, max_depth=6, min_child_weight=1, missing=nan,\n",
       "                monotone_constraints=&#x27;()&#x27;, n_estimators=100, n_jobs=28,\n",
       "                num_parallel_tree=100, objective=&#x27;binary:logistic&#x27;,\n",
       "                predictor=&#x27;auto&#x27;, random_state=0, reg_alpha=0,\n",
       "                scale_pos_weight=1, tree_method=&#x27;exact&#x27;, validate_parameters=1,\n",
       "                verbosity=None)</pre></div></div></div></div></div>"
      ],
      "text/plain": [
       "XGBRFClassifier(base_score=0.5, booster='gbtree', colsample_bylevel=1,\n",
       "                colsample_bytree=1, enable_categorical=False, gamma=0,\n",
       "                gpu_id=-1, importance_type=None, interaction_constraints='',\n",
       "                max_delta_step=0, max_depth=6, min_child_weight=1, missing=nan,\n",
       "                monotone_constraints='()', n_estimators=100, n_jobs=28,\n",
       "                num_parallel_tree=100, objective='binary:logistic',\n",
       "                predictor='auto', random_state=0, reg_alpha=0,\n",
       "                scale_pos_weight=1, tree_method='exact', validate_parameters=1,\n",
       "                verbosity=None)"
      ]
     },
     "execution_count": 52,
     "metadata": {},
     "output_type": "execute_result"
    }
   ],
   "source": [
    "rf_label = xgb.XGBRFClassifier()\n",
    "rf_label.fit(X_train,y_train)\n"
   ]
  },
  {
   "cell_type": "code",
   "execution_count": 53,
   "id": "f55d4e58-43dd-4ecf-b9c2-28351205c5e4",
   "metadata": {},
   "outputs": [
    {
     "name": "stdout",
     "output_type": "stream",
     "text": [
      "Accuracy  0.8190478019550981\n",
      "roc_auc 0.8694440727956123\n"
     ]
    }
   ],
   "source": [
    "evaluate_model(rf_label,X_test,y_test)"
   ]
  },
  {
   "cell_type": "code",
   "execution_count": 56,
   "id": "b36e25e2-fbba-49a0-abc0-f4fd08de1237",
   "metadata": {},
   "outputs": [
    {
     "data": {
      "text/plain": [
       "<AxesSubplot:>"
      ]
     },
     "execution_count": 56,
     "metadata": {},
     "output_type": "execute_result"
    },
    {
     "data": {
      "image/png": "[encoded data removed]",
      "text/plain": [
       "<Figure size 432x288 with 1 Axes>"
      ]
     },
     "metadata": {
      "needs_background": "light"
     },
     "output_type": "display_data"
    }
   ],
   "source": [
    "feat_importances = pd.Series(rf_label.feature_importances_, index=X_train.columns)\n",
    "feat_importances.nlargest(20).plot(kind='barh')"
   ]
  },
  {
   "cell_type": "code",
   "execution_count": null,
   "id": "024f9a0d-d3ee-4088-8902-15748eb74cb5",
   "metadata": {},
   "outputs": [],
   "source": [
    "# Things to do\n",
    "\n",
    "# Figure out random forest"
   ]
  }
 ],
 "metadata": {
  "kernelspec": {
   "display_name": "Python 3",
   "language": "python",
   "name": "python3"
  },
  "language_info": {
   "codemirror_mode": {
    "name": "ipython",
    "version": 3
   },
   "file_extension": ".py",
   "mimetype": "text/x-python",
   "name": "python",
   "nbconvert_exporter": "python",
   "pygments_lexer": "ipython3",
   "version": "3.8.8"
  }
 },
 "nbformat": 4,
 "nbformat_minor": 5
}
